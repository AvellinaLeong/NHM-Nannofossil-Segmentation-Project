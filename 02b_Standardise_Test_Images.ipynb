{
  "nbformat": 4,
  "nbformat_minor": 0,
  "metadata": {
    "colab": {
      "provenance": [],
      "authorship_tag": "ABX9TyOkN4ZVvOFN4AAk8y8m+yUa",
      "include_colab_link": true
    },
    "kernelspec": {
      "name": "python3",
      "display_name": "Python 3"
    },
    "language_info": {
      "name": "python"
    }
  },
  "cells": [
    {
      "cell_type": "markdown",
      "metadata": {
        "id": "view-in-github",
        "colab_type": "text"
      },
      "source": [
        "<a href=\"https://colab.research.google.com/github/AvellinaLeong/NHM-Nannofossil-Segmentation-Project/blob/main/02b_Standardise_Test_Images.ipynb\" target=\"_parent\"><img src=\"https://colab.research.google.com/assets/colab-badge.svg\" alt=\"Open In Colab\"/></a>"
      ]
    },
    {
      "cell_type": "markdown",
      "source": [
        "## Standardise Image Size\n",
        "\n",
        "\n",
        "\n",
        "*   Cropped segmented instances all have varying sizes and shapes\n",
        "*   Therefore the largest one is found and black space is added to the rest, to standardise the size and shape of all cropped segmented instances\n",
        "\n"
      ],
      "metadata": {
        "id": "a5mmDASsolUO"
      }
    },
    {
      "cell_type": "code",
      "execution_count": null,
      "metadata": {
        "colab": {
          "base_uri": "https://localhost:8080/"
        },
        "id": "cgz4POEdnlkO",
        "outputId": "a6a77fc3-9faa-46aa-f4cd-6d9d74f71373"
      },
      "outputs": [
        {
          "output_type": "stream",
          "name": "stdout",
          "text": [
            "Mounted at /content/drive/\n",
            "/content/drive/MyDrive/development/avellina\n",
            "Binary_Classification_notebooks  Detectron2_notebooks  Morphometrics_notebooks\tsrc\n",
            "detectron2\t\t\t Mask-RCNN\t       output\n"
          ]
        }
      ],
      "source": [
        "from google.colab import drive\n",
        "drive.mount('/content/drive/')\n",
        "\n",
        "# Set script location to own development space\n",
        "MY_DEVELOPMENT_SPACE = '/content/drive/MyDrive/development/avellina/'\n",
        "import os\n",
        "os.chdir(MY_DEVELOPMENT_SPACE)\n",
        "!pwd\n",
        "!ls"
      ]
    },
    {
      "cell_type": "code",
      "source": [
        "import os\n",
        "from PIL import Image"
      ],
      "metadata": {
        "id": "yRytNwOeo_5o"
      },
      "execution_count": null,
      "outputs": []
    },
    {
      "cell_type": "code",
      "source": [
        "# Paths to the directories\n",
        "test_dir = \"/content/drive/MyDrive/data/species_53/Binary_Classification/cropped_segmentations/test\""
      ],
      "metadata": {
        "id": "mnheQzl4pBR1"
      },
      "execution_count": null,
      "outputs": []
    },
    {
      "cell_type": "markdown",
      "source": [
        "## Pad all other images to scale to largest dimensions\n",
        "\n",
        "\n",
        "*   Pad test images with black space to standardise to 206 x 206 pixels\n",
        "\n"
      ],
      "metadata": {
        "id": "UGJHd8k3AU-w"
      }
    },
    {
      "cell_type": "code",
      "source": [
        "# Output directories for the padded images\n",
        "output_dir = \"/content/drive/MyDrive/data/species_53/Binary_Classification/standardised_cropped_segmentations\"\n",
        "test_output_dir = os.path.join(output_dir, \"test\")\n",
        "os.makedirs(test_output_dir, exist_ok=True)"
      ],
      "metadata": {
        "id": "zn07xngtCrwK"
      },
      "execution_count": null,
      "outputs": []
    },
    {
      "cell_type": "code",
      "source": [
        "# Target size for the padded images\n",
        "target_size = 206"
      ],
      "metadata": {
        "id": "VChKYw9-x4hs"
      },
      "execution_count": null,
      "outputs": []
    },
    {
      "cell_type": "code",
      "source": [
        "def pad_images_to_fixed_size(input_directory, output_directory, target_size):\n",
        "    for root, _, files in os.walk(input_directory):\n",
        "        for file in files:\n",
        "            if file.endswith(('png', 'jpg', 'jpeg')):\n",
        "                input_file_path = os.path.join(root, file)\n",
        "                with Image.open(input_file_path) as img:\n",
        "                    width, height = img.size\n",
        "                    new_image = Image.new(\"RGB\", (target_size, target_size), (0, 0, 0))  # Create a black background\n",
        "                    new_image.paste(img, ((target_size - width) // 2, (target_size - height) // 2))  # Center the original image\n",
        "\n",
        "                    # Construct the output file path\n",
        "                    relative_path = os.path.relpath(input_file_path, input_directory)\n",
        "                    output_file_path = os.path.join(output_directory, relative_path)\n",
        "\n",
        "                    # Create the output directory if it doesn't exist\n",
        "                    os.makedirs(os.path.dirname(output_file_path), exist_ok=True)\n",
        "\n",
        "                    # Save the new image\n",
        "                    new_image.save(output_file_path)\n",
        "\n",
        "# Pad all images in the test directory to 206x206 pixels and save them to the output directory\n",
        "pad_images_to_fixed_size(test_dir, test_output_dir, target_size)\n",
        "\n",
        "print(f\"All images have been padded to {target_size}x{target_size} and saved successfully.\")"
      ],
      "metadata": {
        "colab": {
          "base_uri": "https://localhost:8080/"
        },
        "id": "msMMJHpKyTKY",
        "outputId": "65df591a-6564-404a-aa06-e28dd162197c"
      },
      "execution_count": null,
      "outputs": [
        {
          "output_type": "stream",
          "name": "stdout",
          "text": [
            "All images have been padded to 206x206 and saved successfully.\n"
          ]
        }
      ]
    }
  ]
}