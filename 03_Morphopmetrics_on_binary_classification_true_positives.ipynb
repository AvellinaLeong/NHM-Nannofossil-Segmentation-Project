{
  "nbformat": 4,
  "nbformat_minor": 0,
  "metadata": {
    "colab": {
      "provenance": [],
      "authorship_tag": "ABX9TyOWkw9B95KfmhuqV4VtrfyF",
      "include_colab_link": true
    },
    "kernelspec": {
      "name": "python3",
      "display_name": "Python 3"
    },
    "language_info": {
      "name": "python"
    }
  },
  "cells": [
    {
      "cell_type": "markdown",
      "metadata": {
        "id": "view-in-github",
        "colab_type": "text"
      },
      "source": [
        "<a href=\"https://colab.research.google.com/github/AvellinaLeong/NHM-Nannofossil-Segmentation-Project/blob/main/03_Morphopmetrics_on_binary_classification_true_positives.ipynb\" target=\"_parent\"><img src=\"https://colab.research.google.com/assets/colab-badge.svg\" alt=\"Open In Colab\"/></a>"
      ]
    },
    {
      "cell_type": "markdown",
      "source": [
        "## Perform Morphometrics on True Positive Outputs\n",
        "\n",
        "\n",
        "\n",
        "*   02 morphometric script on true and false positives, this one only on true positives\n",
        "\n"
      ],
      "metadata": {
        "id": "vCzPUjPUjAKI"
      }
    },
    {
      "cell_type": "code",
      "execution_count": 1,
      "metadata": {
        "colab": {
          "base_uri": "https://localhost:8080/"
        },
        "id": "n-g9VCoPiz3z",
        "outputId": "5acfe192-62be-4e96-b56e-96263c9ac710"
      },
      "outputs": [
        {
          "output_type": "stream",
          "name": "stdout",
          "text": [
            "Mounted at /content/drive/\n",
            "/content/drive/MyDrive/development/avellina\n",
            "Binary_Classification_notebooks  Detectron2_notebooks  Morphometrics_notebooks\tsrc\n",
            "detectron2\t\t\t Mask-RCNN\t       output\n"
          ]
        }
      ],
      "source": [
        "from google.colab import drive\n",
        "drive.mount('/content/drive/')\n",
        "\n",
        "# Set script location to own development space\n",
        "MY_DEVELOPMENT_SPACE = '/content/drive/MyDrive/development/avellina/'\n",
        "import os\n",
        "os.chdir(MY_DEVELOPMENT_SPACE)\n",
        "!pwd\n",
        "!ls"
      ]
    },
    {
      "cell_type": "markdown",
      "source": [
        "## Write CSV for True Positive from Binary Classification"
      ],
      "metadata": {
        "id": "aMs0611xlEiE"
      }
    },
    {
      "cell_type": "code",
      "source": [
        "import pandas as pd\n",
        "\n",
        "# Define the file paths\n",
        "input_file_path = \"/content/drive/MyDrive/data/species_53/Binary_Classification/model_save/epoch_100_dataframe.csv\"\n",
        "output_file_path = \"/content/drive/MyDrive/data/species_53/Binary_Classification/model_save/nannofossil_prediction_true_positives.csv\"\n",
        "\n",
        "# Load the CSV file into a DataFrame\n",
        "df = pd.read_csv(input_file_path)\n",
        "\n",
        "# Filter the DataFrame to include only rows where groundtruth_labels are 1 and Predictions are greater than 0.5\n",
        "filtered_df = df[(df['groundtruth_labels'] == 1) & (df['Predictions'] > 0.5)]\n",
        "\n",
        "# Save the filtered DataFrame to a new CSV file\n",
        "filtered_df.to_csv(output_file_path, index=False)\n",
        "\n",
        "print(f\"Filtered CSV saved to {output_file_path}\")"
      ],
      "metadata": {
        "colab": {
          "base_uri": "https://localhost:8080/"
        },
        "id": "wC-N-oPokrWq",
        "outputId": "79f18174-f00e-4f6c-f732-e8a49be8785e"
      },
      "execution_count": 2,
      "outputs": [
        {
          "output_type": "stream",
          "name": "stdout",
          "text": [
            "Filtered CSV saved to /content/drive/MyDrive/data/species_53/Binary_Classification/model_save/nannofossil_prediction_true_positives.csv\n"
          ]
        }
      ]
    },
    {
      "cell_type": "markdown",
      "source": [
        "## Get corresponding masks from Mask R-CNN"
      ],
      "metadata": {
        "id": "a0NpGR3ImTKo"
      }
    },
    {
      "cell_type": "code",
      "source": [
        "import os\n",
        "import pandas as pd\n",
        "import numpy as np\n",
        "import cv2\n",
        "from PIL import Image\n",
        "import yaml"
      ],
      "metadata": {
        "id": "-iA_BbxsmSoU"
      },
      "execution_count": 3,
      "outputs": []
    },
    {
      "cell_type": "code",
      "source": [
        "!python -m pip install pyyaml==5.1\n",
        "import sys, os, distutils.core\n",
        "!git clone 'https://github.com/facebookresearch/detectron2'\n",
        "dist = distutils.core.run_setup(\"./detectron2/setup.py\")\n",
        "!python -m pip install {' '.join([f\"'{x}'\" for x in dist.install_requires])}\n",
        "sys.path.insert(0, os.path.abspath('./detectron2'))"
      ],
      "metadata": {
        "colab": {
          "base_uri": "https://localhost:8080/"
        },
        "collapsed": true,
        "id": "HLVYiOpcmaac",
        "outputId": "57ab94ad-f641-4ce0-b302-ecc78801f90f"
      },
      "execution_count": 4,
      "outputs": [
        {
          "output_type": "stream",
          "name": "stdout",
          "text": [
            "Collecting pyyaml==5.1\n",
            "  Downloading PyYAML-5.1.tar.gz (274 kB)\n",
            "\u001b[?25l     \u001b[90m━━━━━━━━━━━━━━━━━━━━━━━━━━━━━━━━━━━━━━━━\u001b[0m \u001b[32m0.0/274.2 kB\u001b[0m \u001b[31m?\u001b[0m eta \u001b[36m-:--:--\u001b[0m\r\u001b[2K     \u001b[90m━━━━━━━━━━━━━━━━━━━━━━━━━━━━━━━━━━━━━━━━\u001b[0m \u001b[32m274.2/274.2 kB\u001b[0m \u001b[31m19.2 MB/s\u001b[0m eta \u001b[36m0:00:00\u001b[0m\n",
            "\u001b[?25h  \u001b[1;31merror\u001b[0m: \u001b[1msubprocess-exited-with-error\u001b[0m\n",
            "  \n",
            "  \u001b[31m×\u001b[0m \u001b[32mpython setup.py egg_info\u001b[0m did not run successfully.\n",
            "  \u001b[31m│\u001b[0m exit code: \u001b[1;36m1\u001b[0m\n",
            "  \u001b[31m╰─>\u001b[0m See above for output.\n",
            "  \n",
            "  \u001b[1;35mnote\u001b[0m: This error originates from a subprocess, and is likely not a problem with pip.\n",
            "  Preparing metadata (setup.py) ... \u001b[?25l\u001b[?25herror\n",
            "\u001b[1;31merror\u001b[0m: \u001b[1mmetadata-generation-failed\u001b[0m\n",
            "\n",
            "\u001b[31m×\u001b[0m Encountered error while generating package metadata.\n",
            "\u001b[31m╰─>\u001b[0m See above for output.\n",
            "\n",
            "\u001b[1;35mnote\u001b[0m: This is an issue with the package mentioned above, not pip.\n",
            "\u001b[1;36mhint\u001b[0m: See above for details.\n",
            "fatal: destination path 'detectron2' already exists and is not an empty directory.\n",
            "Ignoring dataclasses: markers 'python_version < \"3.7\"' don't match your environment\n",
            "Requirement already satisfied: Pillow>=7.1 in /usr/local/lib/python3.10/dist-packages (9.4.0)\n",
            "Requirement already satisfied: matplotlib in /usr/local/lib/python3.10/dist-packages (3.7.1)\n",
            "Requirement already satisfied: pycocotools>=2.0.2 in /usr/local/lib/python3.10/dist-packages (2.0.8)\n",
            "Requirement already satisfied: termcolor>=1.1 in /usr/local/lib/python3.10/dist-packages (2.4.0)\n",
            "Collecting yacs>=0.1.8\n",
            "  Downloading yacs-0.1.8-py3-none-any.whl.metadata (639 bytes)\n",
            "Requirement already satisfied: tabulate in /usr/local/lib/python3.10/dist-packages (0.9.0)\n",
            "Requirement already satisfied: cloudpickle in /usr/local/lib/python3.10/dist-packages (2.2.1)\n",
            "Requirement already satisfied: tqdm>4.29.0 in /usr/local/lib/python3.10/dist-packages (4.66.4)\n",
            "Requirement already satisfied: tensorboard in /usr/local/lib/python3.10/dist-packages (2.17.0)\n",
            "Collecting fvcore<0.1.6,>=0.1.5\n",
            "  Downloading fvcore-0.1.5.post20221221.tar.gz (50 kB)\n",
            "\u001b[2K     \u001b[90m━━━━━━━━━━━━━━━━━━━━━━━━━━━━━━━━━━━━━━━━\u001b[0m \u001b[32m50.2/50.2 kB\u001b[0m \u001b[31m5.6 MB/s\u001b[0m eta \u001b[36m0:00:00\u001b[0m\n",
            "\u001b[?25h  Preparing metadata (setup.py) ... \u001b[?25l\u001b[?25hdone\n",
            "Collecting iopath<0.1.10,>=0.1.7\n",
            "  Downloading iopath-0.1.9-py3-none-any.whl.metadata (370 bytes)\n",
            "Collecting omegaconf<2.4,>=2.1\n",
            "  Downloading omegaconf-2.3.0-py3-none-any.whl.metadata (3.9 kB)\n",
            "Collecting hydra-core>=1.1\n",
            "  Downloading hydra_core-1.3.2-py3-none-any.whl.metadata (5.5 kB)\n",
            "Collecting black\n",
            "  Downloading black-24.4.2-cp310-cp310-manylinux_2_17_x86_64.manylinux2014_x86_64.whl.metadata (77 kB)\n",
            "\u001b[2K     \u001b[90m━━━━━━━━━━━━━━━━━━━━━━━━━━━━━━━━━━━━━━━━\u001b[0m \u001b[32m77.1/77.1 kB\u001b[0m \u001b[31m6.8 MB/s\u001b[0m eta \u001b[36m0:00:00\u001b[0m\n",
            "\u001b[?25hRequirement already satisfied: packaging in /usr/local/lib/python3.10/dist-packages (24.1)\n",
            "Requirement already satisfied: contourpy>=1.0.1 in /usr/local/lib/python3.10/dist-packages (from matplotlib) (1.2.1)\n",
            "Requirement already satisfied: cycler>=0.10 in /usr/local/lib/python3.10/dist-packages (from matplotlib) (0.12.1)\n",
            "Requirement already satisfied: fonttools>=4.22.0 in /usr/local/lib/python3.10/dist-packages (from matplotlib) (4.53.1)\n",
            "Requirement already satisfied: kiwisolver>=1.0.1 in /usr/local/lib/python3.10/dist-packages (from matplotlib) (1.4.5)\n",
            "Requirement already satisfied: numpy>=1.20 in /usr/local/lib/python3.10/dist-packages (from matplotlib) (1.26.4)\n",
            "Requirement already satisfied: pyparsing>=2.3.1 in /usr/local/lib/python3.10/dist-packages (from matplotlib) (3.1.2)\n",
            "Requirement already satisfied: python-dateutil>=2.7 in /usr/local/lib/python3.10/dist-packages (from matplotlib) (2.8.2)\n",
            "Requirement already satisfied: PyYAML in /usr/local/lib/python3.10/dist-packages (from yacs>=0.1.8) (6.0.1)\n",
            "Requirement already satisfied: absl-py>=0.4 in /usr/local/lib/python3.10/dist-packages (from tensorboard) (1.4.0)\n",
            "Requirement already satisfied: grpcio>=1.48.2 in /usr/local/lib/python3.10/dist-packages (from tensorboard) (1.64.1)\n",
            "Requirement already satisfied: markdown>=2.6.8 in /usr/local/lib/python3.10/dist-packages (from tensorboard) (3.6)\n",
            "Requirement already satisfied: protobuf!=4.24.0,<5.0.0,>=3.19.6 in /usr/local/lib/python3.10/dist-packages (from tensorboard) (3.20.3)\n",
            "Requirement already satisfied: setuptools>=41.0.0 in /usr/local/lib/python3.10/dist-packages (from tensorboard) (71.0.4)\n",
            "Requirement already satisfied: six>1.9 in /usr/local/lib/python3.10/dist-packages (from tensorboard) (1.16.0)\n",
            "Requirement already satisfied: tensorboard-data-server<0.8.0,>=0.7.0 in /usr/local/lib/python3.10/dist-packages (from tensorboard) (0.7.2)\n",
            "Requirement already satisfied: werkzeug>=1.0.1 in /usr/local/lib/python3.10/dist-packages (from tensorboard) (3.0.3)\n",
            "Collecting portalocker (from iopath<0.1.10,>=0.1.7)\n",
            "  Downloading portalocker-2.10.1-py3-none-any.whl.metadata (8.5 kB)\n",
            "Collecting antlr4-python3-runtime==4.9.* (from omegaconf<2.4,>=2.1)\n",
            "  Downloading antlr4-python3-runtime-4.9.3.tar.gz (117 kB)\n",
            "\u001b[2K     \u001b[90m━━━━━━━━━━━━━━━━━━━━━━━━━━━━━━━━━━━━━━━━\u001b[0m \u001b[32m117.0/117.0 kB\u001b[0m \u001b[31m12.0 MB/s\u001b[0m eta \u001b[36m0:00:00\u001b[0m\n",
            "\u001b[?25h  Preparing metadata (setup.py) ... \u001b[?25l\u001b[?25hdone\n",
            "Requirement already satisfied: click>=8.0.0 in /usr/local/lib/python3.10/dist-packages (from black) (8.1.7)\n",
            "Collecting mypy-extensions>=0.4.3 (from black)\n",
            "  Downloading mypy_extensions-1.0.0-py3-none-any.whl.metadata (1.1 kB)\n",
            "Collecting pathspec>=0.9.0 (from black)\n",
            "  Downloading pathspec-0.12.1-py3-none-any.whl.metadata (21 kB)\n",
            "Requirement already satisfied: platformdirs>=2 in /usr/local/lib/python3.10/dist-packages (from black) (4.2.2)\n",
            "Requirement already satisfied: tomli>=1.1.0 in /usr/local/lib/python3.10/dist-packages (from black) (2.0.1)\n",
            "Requirement already satisfied: typing-extensions>=4.0.1 in /usr/local/lib/python3.10/dist-packages (from black) (4.12.2)\n",
            "Requirement already satisfied: MarkupSafe>=2.1.1 in /usr/local/lib/python3.10/dist-packages (from werkzeug>=1.0.1->tensorboard) (2.1.5)\n",
            "Downloading yacs-0.1.8-py3-none-any.whl (14 kB)\n",
            "Downloading iopath-0.1.9-py3-none-any.whl (27 kB)\n",
            "Downloading omegaconf-2.3.0-py3-none-any.whl (79 kB)\n",
            "\u001b[2K   \u001b[90m━━━━━━━━━━━━━━━━━━━━━━━━━━━━━━━━━━━━━━━━\u001b[0m \u001b[32m79.5/79.5 kB\u001b[0m \u001b[31m9.6 MB/s\u001b[0m eta \u001b[36m0:00:00\u001b[0m\n",
            "\u001b[?25hDownloading hydra_core-1.3.2-py3-none-any.whl (154 kB)\n",
            "\u001b[2K   \u001b[90m━━━━━━━━━━━━━━━━━━━━━━━━━━━━━━━━━━━━━━━━\u001b[0m \u001b[32m154.5/154.5 kB\u001b[0m \u001b[31m18.3 MB/s\u001b[0m eta \u001b[36m0:00:00\u001b[0m\n",
            "\u001b[?25hDownloading black-24.4.2-cp310-cp310-manylinux_2_17_x86_64.manylinux2014_x86_64.whl (1.8 MB)\n",
            "\u001b[2K   \u001b[90m━━━━━━━━━━━━━━━━━━━━━━━━━━━━━━━━━━━━━━━━\u001b[0m \u001b[32m1.8/1.8 MB\u001b[0m \u001b[31m86.2 MB/s\u001b[0m eta \u001b[36m0:00:00\u001b[0m\n",
            "\u001b[?25hDownloading mypy_extensions-1.0.0-py3-none-any.whl (4.7 kB)\n",
            "Downloading pathspec-0.12.1-py3-none-any.whl (31 kB)\n",
            "Downloading portalocker-2.10.1-py3-none-any.whl (18 kB)\n",
            "Building wheels for collected packages: fvcore, antlr4-python3-runtime\n",
            "  Building wheel for fvcore (setup.py) ... \u001b[?25l\u001b[?25hdone\n",
            "  Created wheel for fvcore: filename=fvcore-0.1.5.post20221221-py3-none-any.whl size=61398 sha256=3bef061a2ff5ed365f6470f971893b20dfaf473f5d61a479b5e9780a67692758\n",
            "  Stored in directory: /root/.cache/pip/wheels/01/c0/af/77c1cf53a1be9e42a52b48e5af2169d40ec2e89f7362489dd0\n",
            "  Building wheel for antlr4-python3-runtime (setup.py) ... \u001b[?25l\u001b[?25hdone\n",
            "  Created wheel for antlr4-python3-runtime: filename=antlr4_python3_runtime-4.9.3-py3-none-any.whl size=144552 sha256=7444d3e606377f951f24ebb0016af08815df4d419a00406584db1b39baf52f15\n",
            "  Stored in directory: /root/.cache/pip/wheels/12/93/dd/1f6a127edc45659556564c5730f6d4e300888f4bca2d4c5a88\n",
            "Successfully built fvcore antlr4-python3-runtime\n",
            "Installing collected packages: antlr4-python3-runtime, yacs, portalocker, pathspec, omegaconf, mypy-extensions, iopath, hydra-core, black, fvcore\n",
            "Successfully installed antlr4-python3-runtime-4.9.3 black-24.4.2 fvcore-0.1.5.post20221221 hydra-core-1.3.2 iopath-0.1.9 mypy-extensions-1.0.0 omegaconf-2.3.0 pathspec-0.12.1 portalocker-2.10.1 yacs-0.1.8\n"
          ]
        }
      ]
    },
    {
      "cell_type": "code",
      "source": [
        "import torch, detectron2\n",
        "!nvcc --version\n",
        "TORCH_VERSION = \".\".join(torch.__version__.split(\".\")[:2])\n",
        "CUDA_VERSION = torch.__version__.split(\"+\")[-1]\n",
        "print(\"torch: \", TORCH_VERSION, \"; cuda: \", CUDA_VERSION)\n",
        "print(\"detectron2:\", detectron2.__version__)"
      ],
      "metadata": {
        "colab": {
          "base_uri": "https://localhost:8080/"
        },
        "id": "sY992oPjmbf-",
        "outputId": "6fba3e7a-fab0-4931-e1e8-4091831f9453"
      },
      "execution_count": 5,
      "outputs": [
        {
          "output_type": "stream",
          "name": "stdout",
          "text": [
            "nvcc: NVIDIA (R) Cuda compiler driver\n",
            "Copyright (c) 2005-2023 NVIDIA Corporation\n",
            "Built on Tue_Aug_15_22:02:13_PDT_2023\n",
            "Cuda compilation tools, release 12.2, V12.2.140\n",
            "Build cuda_12.2.r12.2/compiler.33191640_0\n",
            "torch:  2.3 ; cuda:  cu121\n",
            "detectron2: 0.6\n"
          ]
        }
      ]
    },
    {
      "cell_type": "code",
      "source": [
        "# Import Detectron2 and Detectron2 Logger\n",
        "import detectron2\n",
        "from detectron2.utils.logger import setup_logger\n",
        "setup_logger()"
      ],
      "metadata": {
        "colab": {
          "base_uri": "https://localhost:8080/"
        },
        "id": "5rUYF8KfmcsR",
        "outputId": "acd29225-18e0-4da1-9c57-3f0e32bffca6"
      },
      "execution_count": 6,
      "outputs": [
        {
          "output_type": "execute_result",
          "data": {
            "text/plain": [
              "<Logger detectron2 (DEBUG)>"
            ]
          },
          "metadata": {},
          "execution_count": 6
        }
      ]
    },
    {
      "cell_type": "code",
      "source": [
        "# Import Detectron2 utilities\n",
        "from detectron2 import model_zoo\n",
        "from detectron2.engine import DefaultPredictor\n",
        "from detectron2.config import get_cfg\n",
        "from detectron2.utils.visualizer import Visualizer\n",
        "from detectron2.data import MetadataCatalog, DatasetCatalog\n",
        "from detectron2.data import DatasetCatalog, MetadataCatalog, detection_utils as utils, build_detection_train_loader\n",
        "from detectron2.structures import BoxMode"
      ],
      "metadata": {
        "id": "ZFrNdFDWmd1w"
      },
      "execution_count": 7,
      "outputs": []
    },
    {
      "cell_type": "code",
      "source": [
        "# Load the list of correctly predicted cropped image names from the CSV\n",
        "pred_csv_path = \"/content/drive/MyDrive/data/species_53/Binary_Classification/model_save/nannofossil_prediction_true_positives.csv\"\n",
        "pred_df = pd.read_csv(pred_csv_path)\n",
        "correct_predictions = set(pred_df['image_name'].tolist())"
      ],
      "metadata": {
        "id": "_3pDJ5iFme9F"
      },
      "execution_count": 8,
      "outputs": []
    },
    {
      "cell_type": "code",
      "source": [
        "# Define the file paths for the datasets\n",
        "train_json = \"/content/drive/MyDrive/data/species_53/data/train/coco_train.json\"\n",
        "train_images_path = \"/content/drive/MyDrive/data/species_53/data/train\"\n",
        "val_json = \"/content/drive/MyDrive/data/species_53/data/val/coco_val.json\"\n",
        "val_images_path = \"/content/drive/MyDrive/data/species_53/data/val\""
      ],
      "metadata": {
        "id": "2noKmOKJm0zS"
      },
      "execution_count": 9,
      "outputs": []
    },
    {
      "cell_type": "code",
      "source": [
        "# Register the datasets\n",
        "from detectron2.data.datasets import register_coco_instances\n",
        "register_coco_instances(\"my_dataset_train\", {}, train_json, train_images_path)\n",
        "register_coco_instances(\"my_dataset_val\", {}, val_json, val_images_path)"
      ],
      "metadata": {
        "id": "-bL6LUa0m2jQ"
      },
      "execution_count": 10,
      "outputs": []
    },
    {
      "cell_type": "code",
      "source": [
        "# Extract the metadata and dataset dictionaries\n",
        "train_metadata = MetadataCatalog.get(\"my_dataset_train\")\n",
        "train_dataset_dicts = DatasetCatalog.get(\"my_dataset_train\")\n",
        "val_metadata = MetadataCatalog.get(\"my_dataset_val\")\n",
        "val_dataset_dicts = DatasetCatalog.get(\"my_dataset_val\")"
      ],
      "metadata": {
        "colab": {
          "base_uri": "https://localhost:8080/"
        },
        "id": "P4npZtG5m6H4",
        "outputId": "d90cb94e-bf4b-4b18-980e-658ca0d5872f"
      },
      "execution_count": 11,
      "outputs": [
        {
          "output_type": "stream",
          "name": "stdout",
          "text": [
            "[08/01 11:14:52 d2.data.datasets.coco]: Loading /content/drive/MyDrive/data/species_53/data/train/coco_train.json takes 2.16 seconds.\n",
            "[08/01 11:14:52 d2.data.datasets.coco]: Loaded 289 images in COCO format from /content/drive/MyDrive/data/species_53/data/train/coco_train.json\n",
            "[08/01 11:14:54 d2.data.datasets.coco]: Loading /content/drive/MyDrive/data/species_53/data/val/coco_val.json takes 1.61 seconds.\n",
            "[08/01 11:14:54 d2.data.datasets.coco]: Loaded 95 images in COCO format from /content/drive/MyDrive/data/species_53/data/val/coco_val.json\n"
          ]
        }
      ]
    },
    {
      "cell_type": "code",
      "source": [
        "# Load the saved configuration from the YAML file\n",
        "config_yaml_path = \"/content/drive/MyDrive/data/species_53/Detectron2_Models/1/config_1.yaml\"  # Path to your saved config file\n",
        "cfg = get_cfg()\n",
        "\n",
        "# Set default values for keys that might be missing in the config file\n",
        "cfg.DATASETS.TRAIN = (\"my_dataset_train\",)\n",
        "cfg.DATASETS.VAL = (\"my_dataset_val\",)\n",
        "cfg.DATASETS.TEST = (\"my_dataset_test\",)\n",
        "cfg.DATALOADER.NUM_WORKERS = 2\n",
        "cfg.MODEL.WEIGHTS = \"\"\n",
        "cfg.SOLVER.IMS_PER_BATCH = 2\n",
        "cfg.SOLVER.BASE_LR = 0.00025\n",
        "cfg.SOLVER.MAX_ITER = 1000\n",
        "cfg.SOLVER.STEPS = []\n",
        "cfg.MODEL.ROI_HEADS.BATCH_SIZE_PER_IMAGE = 512\n",
        "cfg.TEST.EVAL_PERIOD = 500\n",
        "cfg.MODEL.ROI_HEADS.NUM_CLASSES = 1\n",
        "\n",
        "# Merge the configuration file with the default (debugged this way)\n",
        "cfg.merge_from_file(config_yaml_path)\n",
        "# Initialize the predictor with the loaded configuration\n",
        "cfg.MODEL.WEIGHTS = os.path.join(cfg.OUTPUT_DIR, \"1\", \"model_final_1.pth\")"
      ],
      "metadata": {
        "colab": {
          "base_uri": "https://localhost:8080/"
        },
        "id": "-C_wxFC5m6pa",
        "outputId": "b2ebe3fc-1218-4989-f8d8-08199b3ed297"
      },
      "execution_count": 12,
      "outputs": [
        {
          "output_type": "stream",
          "name": "stderr",
          "text": [
            "WARNING:fvcore.common.config:Loading config /content/drive/MyDrive/data/species_53/Detectron2_Models/1/config_1.yaml with yaml.unsafe_load. Your machine may be at risk if the file contains malicious content.\n"
          ]
        }
      ]
    },
    {
      "cell_type": "code",
      "source": [
        "predictor = DefaultPredictor(cfg)"
      ],
      "metadata": {
        "colab": {
          "base_uri": "https://localhost:8080/"
        },
        "id": "JetBaralm8a-",
        "outputId": "79b2d23e-fdb1-4133-f428-222433c209ad"
      },
      "execution_count": 13,
      "outputs": [
        {
          "output_type": "stream",
          "name": "stdout",
          "text": [
            "[08/01 11:15:03 d2.checkpoint.detection_checkpoint]: [DetectionCheckpointer] Loading from /content/drive/MyDrive/data/species_53/Detectron2_Models/1/model_final_1.pth ...\n"
          ]
        }
      ]
    },
    {
      "cell_type": "code",
      "source": [
        "# Create the output directory for segmented masks\n",
        "output_dir = \"/content/drive/MyDrive/data/species_53/Binary_Classification/true_positive_masks_for_morphometrics\"\n",
        "os.makedirs(output_dir, exist_ok=True)"
      ],
      "metadata": {
        "id": "TRdhLK_9m9bj"
      },
      "execution_count": 14,
      "outputs": []
    },
    {
      "cell_type": "code",
      "source": [
        "# Function to process and save segmented masks\n",
        "def process_and_save_segmented_masks(dataset_dicts):\n",
        "    for d in dataset_dicts:\n",
        "        im = cv2.imread(d[\"file_name\"])\n",
        "        outputs = predictor(im)\n",
        "        masks = outputs[\"instances\"].pred_masks.to(\"cpu\").numpy()\n",
        "        num_instances = masks.shape[0]\n",
        "\n",
        "        for i in range(num_instances):\n",
        "            base_name = os.path.basename(d[\"file_name\"])\n",
        "            file_name, file_ext = os.path.splitext(base_name)\n",
        "            cropped_image_name = f\"{file_name}_{i+1}{file_ext}\"\n",
        "\n",
        "            if cropped_image_name in correct_predictions:\n",
        "                item_mask = masks[i]\n",
        "                segmentation = np.where(item_mask == True)\n",
        "                x_min = int(np.min(segmentation[1]))\n",
        "                x_max = int(np.max(segmentation[1]))\n",
        "                y_min = int(np.min(segmentation[0]))\n",
        "                y_max = int(np.max(segmentation[0]))\n",
        "\n",
        "                mask_cropped = item_mask[y_min:y_max, x_min:x_max]\n",
        "                output_file_name = f\"{file_name}_{i+1}_mask{file_ext}\"\n",
        "                output_path = os.path.join(output_dir, output_file_name)\n",
        "                mask_image = Image.fromarray((mask_cropped * 255).astype(np.uint8), mode='L')\n",
        "                mask_image.save(output_path)\n",
        "\n",
        "# Process and save segmented masks for train and val datasets\n",
        "process_and_save_segmented_masks(train_dataset_dicts)\n",
        "process_and_save_segmented_masks(val_dataset_dicts)\n",
        "\n",
        "print(\"Segmented masks saved successfully for correctly predicted cropped images.\")"
      ],
      "metadata": {
        "colab": {
          "base_uri": "https://localhost:8080/"
        },
        "id": "FZ2OR1RHnIfp",
        "outputId": "e69ec7a3-c48d-4b81-a3d2-818ef3e41f22"
      },
      "execution_count": 15,
      "outputs": [
        {
          "output_type": "stream",
          "name": "stderr",
          "text": [
            "/usr/local/lib/python3.10/dist-packages/torch/functional.py:512: UserWarning: torch.meshgrid: in an upcoming release, it will be required to pass the indexing argument. (Triggered internally at ../aten/src/ATen/native/TensorShape.cpp:3587.)\n",
            "  return _VF.meshgrid(tensors, **kwargs)  # type: ignore[attr-defined]\n"
          ]
        },
        {
          "output_type": "stream",
          "name": "stdout",
          "text": [
            "Segmented masks saved successfully for correctly predicted cropped images.\n"
          ]
        }
      ]
    },
    {
      "cell_type": "markdown",
      "source": [
        "## Run Morphometrics on masks"
      ],
      "metadata": {
        "id": "wvi9PwMPnOF-"
      }
    },
    {
      "cell_type": "code",
      "source": [
        "from skimage.measure import label, regionprops\n",
        "from tqdm import tqdm\n",
        "import csv"
      ],
      "metadata": {
        "id": "siz66olhnQ_Z"
      },
      "execution_count": 16,
      "outputs": []
    },
    {
      "cell_type": "code",
      "source": [
        "# Function to calculate morphometrics for all masks\n",
        "def calculate_morphometrics(image_path):\n",
        "    # Verify that the image exists before loading\n",
        "    if not os.path.exists(image_path):\n",
        "        print(f\"Warning: Image {os.path.basename(image_path)} does not exist. Skipping.\")\n",
        "        return []\n",
        "\n",
        "    new_im = cv2.imread(image_path, cv2.IMREAD_GRAYSCALE)  # Load the image in grayscale\n",
        "    if new_im is None:\n",
        "        print(f\"Warning: Image {os.path.basename(image_path)} could not be loaded. Skipping.\")\n",
        "        return []\n",
        "\n",
        "    # Apply binary thresholding to generate the mask\n",
        "    threshold_value = 50  # Set the threshold value\n",
        "    _, binary_image = cv2.threshold(new_im, threshold_value, 255, cv2.THRESH_BINARY)  # Convert to binary image\n",
        "    labeled_mask = label(binary_image)  # Label connected components\n",
        "\n",
        "    # Check if the mask is empty\n",
        "    if np.count_nonzero(labeled_mask) == 0:\n",
        "        print(f\"Warning: Image {os.path.basename(image_path)} has an empty mask. Skipping.\")\n",
        "        return []\n",
        "\n",
        "    props = regionprops(labeled_mask)\n",
        "    if not props:\n",
        "        print(f\"Warning: No properties found for image {os.path.basename(image_path)}. Skipping.\")\n",
        "        return []\n",
        "\n",
        "    # Define scale factor for converting pixels to micrometers\n",
        "    scale = 0.0735\n",
        "    results = []\n",
        "\n",
        "    for i, prop in enumerate(props):\n",
        "        object_number = i + 1\n",
        "        major_axis_length = prop.major_axis_length * scale\n",
        "        minor_axis_length = prop.minor_axis_length * scale\n",
        "\n",
        "        # Ensure lengths are non-zero to avoid division by zero\n",
        "        if major_axis_length == 0 or minor_axis_length == 0:\n",
        "            print(f\"Warning: Image {os.path.basename(image_path)}, Object {object_number} has zero length axis. Skipping.\")\n",
        "            continue\n",
        "\n",
        "        area = prop.area * (scale ** 2)\n",
        "        circularity = np.sqrt((minor_axis_length * major_axis_length) / (major_axis_length ** 2))\n",
        "        ellipticity = major_axis_length / minor_axis_length\n",
        "\n",
        "        results.append([os.path.basename(image_path), \"t.orionatus\", object_number, major_axis_length, minor_axis_length, circularity, ellipticity, area])\n",
        "\n",
        "    return results"
      ],
      "metadata": {
        "id": "3jkgvxOTnSLN"
      },
      "execution_count": 17,
      "outputs": []
    },
    {
      "cell_type": "code",
      "source": [
        "# Define the directories\n",
        "masked_segmentations_dir = \"/content/drive/MyDrive/data/species_53/Binary_Classification/true_positive_masks_for_morphometrics\"\n",
        "output_csv_path = \"/content/drive/MyDrive/data/species_53/Binary_Classification/morphometrics_output/morphometrics_true_positives.csv\"\n",
        "\n",
        "# Check if output directory exists\n",
        "output_dir = os.path.dirname(output_csv_path)\n",
        "if not os.path.exists(output_dir):\n",
        "    os.makedirs(output_dir)"
      ],
      "metadata": {
        "id": "hOD8NIKvnuXF"
      },
      "execution_count": 18,
      "outputs": []
    },
    {
      "cell_type": "code",
      "source": [
        "# Get the list of mask images to process\n",
        "mask_images = [f for f in os.listdir(masked_segmentations_dir) if f.endswith('.jpeg') or f.endswith('.png')]\n",
        "\n",
        "print(f\"Found {len(mask_images)} mask images to process.\")\n",
        "\n",
        "print(\"Starting CSV writing process...\")\n",
        "try:\n",
        "    with open(output_csv_path, 'w', newline='') as csvfile:\n",
        "        csvwriter = csv.writer(csvfile)\n",
        "        csvwriter.writerow([\"file_name\", \"class_name\", \"object_number\", \"major_axis\", \"minor_axis\", \"circularity\", \"ellipticity\", \"area\"])\n",
        "\n",
        "        for image_name in tqdm(mask_images, desc=\"Calculating morphometrics\"):\n",
        "            image_path = os.path.join(masked_segmentations_dir, image_name)\n",
        "            morphometrics = calculate_morphometrics(image_path)\n",
        "            if morphometrics:\n",
        "                csvwriter.writerows(morphometrics)\n",
        "            else:\n",
        "                print(f\"No valid data to write for image {image_name}\")\n",
        "\n",
        "except Exception as e:\n",
        "    print(f\"An error occurred while writing to CSV: {e}\")\n",
        "\n",
        "print(\"Morphometrics processing complete.\")"
      ],
      "metadata": {
        "colab": {
          "base_uri": "https://localhost:8080/"
        },
        "id": "1KeeRSBtn8Om",
        "outputId": "c26f5d02-b4ba-4766-a864-d645be9ca576"
      },
      "execution_count": 19,
      "outputs": [
        {
          "output_type": "stream",
          "name": "stdout",
          "text": [
            "Found 55 mask images to process.\n",
            "Starting CSV writing process...\n"
          ]
        },
        {
          "output_type": "stream",
          "name": "stderr",
          "text": [
            "Calculating morphometrics: 100%|██████████| 55/55 [00:00<00:00, 157.13it/s]"
          ]
        },
        {
          "output_type": "stream",
          "name": "stdout",
          "text": [
            "Morphometrics processing complete.\n"
          ]
        },
        {
          "output_type": "stream",
          "name": "stderr",
          "text": [
            "\n"
          ]
        }
      ]
    }
  ]
}