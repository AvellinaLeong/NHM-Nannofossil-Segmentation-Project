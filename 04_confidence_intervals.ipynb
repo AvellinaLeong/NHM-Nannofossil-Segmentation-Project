{
  "nbformat": 4,
  "nbformat_minor": 0,
  "metadata": {
    "colab": {
      "provenance": [],
      "authorship_tag": "ABX9TyOztcni8DLP/VYLh/KsgnME",
      "include_colab_link": true
    },
    "kernelspec": {
      "name": "python3",
      "display_name": "Python 3"
    },
    "language_info": {
      "name": "python"
    }
  },
  "cells": [
    {
      "cell_type": "markdown",
      "metadata": {
        "id": "view-in-github",
        "colab_type": "text"
      },
      "source": [
        "<a href=\"https://colab.research.google.com/github/AvellinaLeong/NHM-Nannofossil-Segmentation-Project/blob/main/04_confidence_intervals.ipynb\" target=\"_parent\"><img src=\"https://colab.research.google.com/assets/colab-badge.svg\" alt=\"Open In Colab\"/></a>"
      ]
    },
    {
      "cell_type": "markdown",
      "source": [
        "## Calculate Confidence Intervals for Binary Classification results"
      ],
      "metadata": {
        "id": "nb6d80U-3ZmM"
      }
    },
    {
      "cell_type": "code",
      "execution_count": null,
      "metadata": {
        "colab": {
          "base_uri": "https://localhost:8080/"
        },
        "id": "JOQzEPo_3SxV",
        "outputId": "0638e7f1-6a8a-43d0-fdfd-01f42d614ce7"
      },
      "outputs": [
        {
          "output_type": "stream",
          "name": "stdout",
          "text": [
            "Mounted at /content/drive/\n",
            "/content/drive/MyDrive/development/avellina\n",
            "Binary_Classification_notebooks  Detectron2_notebooks  Morphometrics_notebooks\tsrc\n",
            "detectron2\t\t\t Mask-RCNN\t       output\n"
          ]
        }
      ],
      "source": [
        "from google.colab import drive\n",
        "drive.mount('/content/drive/')\n",
        "\n",
        "# Set script location to own development space\n",
        "MY_DEVELOPMENT_SPACE = '/content/drive/MyDrive/development/avellina/'\n",
        "import os\n",
        "os.chdir(MY_DEVELOPMENT_SPACE)\n",
        "!pwd\n",
        "!ls"
      ]
    },
    {
      "cell_type": "code",
      "source": [
        "import pandas as pd\n",
        "import numpy as np\n",
        "from sklearn.metrics import confusion_matrix, roc_auc_score\n",
        "import seaborn as sns\n",
        "import matplotlib.pyplot as plt"
      ],
      "metadata": {
        "id": "gUYbpKg33k3C"
      },
      "execution_count": null,
      "outputs": []
    },
    {
      "cell_type": "code",
      "source": [
        "# Load the dataframe with binary classification predictions (from previous notebook script)\n",
        "df = pd.read_csv('/content/drive/MyDrive/data/species_53/Binary_Classification/model_save/new_epoch_100_dataframe_rot.csv')"
      ],
      "metadata": {
        "id": "2eRoOwt64vjs"
      },
      "execution_count": null,
      "outputs": []
    },
    {
      "cell_type": "code",
      "source": [
        "# Extract true labels and continuous predictions\n",
        "true_classes = df['groundtruth_labels'].values\n",
        "continuous_predictions = df['Predictions'].values"
      ],
      "metadata": {
        "id": "0EqBN-Mj4w55"
      },
      "execution_count": null,
      "outputs": []
    },
    {
      "cell_type": "code",
      "source": [
        "# Apply a threshold to convert continuous predictions to binary class labels\n",
        "threshold = 0.5  # You can adjust this threshold as needed\n",
        "predicted_classes = np.where(continuous_predictions >= threshold, 1, 0)"
      ],
      "metadata": {
        "id": "vVpsyKpY7MNL"
      },
      "execution_count": null,
      "outputs": []
    },
    {
      "cell_type": "code",
      "source": [
        "# Function to calculate sensitivity and specificity\n",
        "def cal_sensitivity_specificity(cm, print_value=0):\n",
        "    TP = cm[1, 1]\n",
        "    TN = cm[0, 0]\n",
        "    FP = cm[0, 1]\n",
        "    FN = cm[1, 0]\n",
        "    sensitivity = TP / (TP + FN)\n",
        "    specificity = TN / (TN + FP)\n",
        "    precision = TP / (TP + FP)\n",
        "    prevalence = (TP + FN) / (TP + TN + FP + FN)\n",
        "    PPV = (sensitivity * prevalence) / ((sensitivity * prevalence) + ((1.0 - specificity) * (1.0 - prevalence)))\n",
        "    NPV = (specificity * (1 - prevalence)) / ((specificity * (1 - prevalence)) + ((1 - sensitivity) * prevalence))\n",
        "\n",
        "    if print_value != 0:\n",
        "        print(\"Sensitivity = \", sensitivity)\n",
        "        print(\"Specificity = \", specificity)\n",
        "        print(\"Precision   = \", precision)\n",
        "        print(\"Prevalence  = \", prevalence)\n",
        "        print(\"PPV         = \", PPV)\n",
        "        print(\"NPV         = \", NPV)\n",
        "\n",
        "    return sensitivity, specificity, precision, PPV, NPV"
      ],
      "metadata": {
        "id": "mBYqvDd94yoi"
      },
      "execution_count": null,
      "outputs": []
    },
    {
      "cell_type": "code",
      "source": [
        "# Function to calculate 95% confidence intervals for AUC using bootstrapping\n",
        "def acu_95CI_bootstrap(true_classes, test_predictions, nsample=5000):\n",
        "    auc_values = []\n",
        "    for i in range(nsample):\n",
        "        idx = np.random.randint(test_predictions.shape[0], size=test_predictions.shape[0])\n",
        "        roc_auc = roc_auc_score(true_classes[idx], test_predictions[idx])\n",
        "        auc_values.append(roc_auc)\n",
        "\n",
        "    CI95 = np.percentile(auc_values, (2.5, 97.5))  # The 95% CI\n",
        "    print(\"95% CI for AUC = \", CI95)\n",
        "\n",
        "    # Plot the distribution of AUC values\n",
        "    plt.figure(figsize=(10, 6))\n",
        "    sns.displot(data=auc_values, bins=20, kde=True, height=3.5, aspect=1.618)\n",
        "    plt.xlabel(\"ROC_AUC Score\", fontsize=13)\n",
        "    plt.ylabel(\"\", fontsize=13)\n",
        "    plt.show()\n",
        "\n",
        "    return CI95, auc_values"
      ],
      "metadata": {
        "id": "srqJvFlq42pB"
      },
      "execution_count": null,
      "outputs": []
    },
    {
      "cell_type": "code",
      "source": [
        "# Function to calculate 95% confidence intervals for Sensitivity and Specificity using bootstrapping\n",
        "def SensitivitySpecificity_95CI_bootstrap(true_classes, predicted_classes, nsample=5000):\n",
        "    sen_values = []\n",
        "    spe_values = []\n",
        "\n",
        "    for i in range(nsample):\n",
        "        idx = np.random.randint(predicted_classes.shape[0], size=predicted_classes.shape[0])\n",
        "        cm = confusion_matrix(true_classes[idx], predicted_classes[idx])\n",
        "        sens, spec, _, _, _ = cal_sensitivity_specificity(cm, print_value=0)\n",
        "        sen_values.append(sens)\n",
        "        spe_values.append(spec)\n",
        "\n",
        "    CI95_sen = np.percentile(sen_values, (2.5, 97.5))  # The 95% CI for sensitivity\n",
        "    CI95_spe = np.percentile(spe_values, (2.5, 97.5))  # The 95% CI for specificity\n",
        "\n",
        "    print(\"Sensitivity 95% CI = \", CI95_sen)\n",
        "    print(\"Specificity 95% CI = \", CI95_spe)\n",
        "\n",
        "    return CI95_sen, CI95_spe"
      ],
      "metadata": {
        "id": "cSkvYrAj44fD"
      },
      "execution_count": null,
      "outputs": []
    },
    {
      "cell_type": "code",
      "source": [
        "# Calculate confusion matrix and initial sensitivity/specificity\n",
        "cm = confusion_matrix(true_classes, predicted_classes)\n",
        "sensitivity, specificity, precision, PPV, NPV = cal_sensitivity_specificity(cm, print_value=1)"
      ],
      "metadata": {
        "colab": {
          "base_uri": "https://localhost:8080/"
        },
        "id": "0SAqewy39Nfn",
        "outputId": "9ba1fbcd-7e35-4c79-fcff-c74c51416e09"
      },
      "execution_count": null,
      "outputs": [
        {
          "output_type": "stream",
          "name": "stdout",
          "text": [
            "Sensitivity =  0.9181818181818182\n",
            "Specificity =  0.8344827586206897\n",
            "Precision   =  0.808\n",
            "Prevalence  =  0.43137254901960786\n",
            "PPV         =  0.808\n",
            "NPV         =  0.9307692307692308\n"
          ]
        }
      ]
    },
    {
      "cell_type": "code",
      "source": [
        "# Print results\n",
        "print(\"Calculating confidence intervals...\")\n",
        "auc_ci, auc_values = acu_95CI_bootstrap(true_classes, continuous_predictions)\n",
        "sensitivity_ci, specificity_ci = SensitivitySpecificity_95CI_bootstrap(true_classes, predicted_classes)"
      ],
      "metadata": {
        "colab": {
          "base_uri": "https://localhost:8080/",
          "height": 469
        },
        "id": "Vo8kzmL09P6g",
        "outputId": "e55dc935-d196-47da-e8cb-2db1f3e22c6f"
      },
      "execution_count": null,
      "outputs": [
        {
          "output_type": "stream",
          "name": "stdout",
          "text": [
            "Calculating confidence intervals...\n",
            "95% CI for AUC =  [0.90144899 0.95959618]\n"
          ]
        },
        {
          "output_type": "display_data",
          "data": {
            "text/plain": [
              "<Figure size 1000x600 with 0 Axes>"
            ]
          },
          "metadata": {}
        },
        {
          "output_type": "display_data",
          "data": {
            "text/plain": [
              "<Figure size 566.3x350 with 1 Axes>"
            ],
            "image/png": "[encoded data removed]"
          },
          "metadata": {}
        },
        {
          "output_type": "stream",
          "name": "stdout",
          "text": [
            "Sensitivity 95% CI =  [0.86324561 0.96610169]\n",
            "Specificity 95% CI =  [0.77299916 0.89312977]\n"
          ]
        }
      ]
    },
    {
      "cell_type": "code",
      "source": [
        "# Display sensitivity and specificity with confidence intervals\n",
        "print(f\"Sensitivity: {sensitivity:.2f} (95% CI: {sensitivity_ci[0]:.2f} - {sensitivity_ci[1]:.2f})\")\n",
        "print(f\"Specificity: {specificity:.2f} (95% CI: {specificity_ci[0]:.2f} - {specificity_ci[1]:.2f})\")"
      ],
      "metadata": {
        "colab": {
          "base_uri": "https://localhost:8080/"
        },
        "id": "_oharH2C9RCK",
        "outputId": "76e7f9c7-11ea-4f36-850f-49e0ad9d8d56"
      },
      "execution_count": null,
      "outputs": [
        {
          "output_type": "stream",
          "name": "stdout",
          "text": [
            "Sensitivity: 0.92 (95% CI: 0.86 - 0.97)\n",
            "Specificity: 0.83 (95% CI: 0.77 - 0.89)\n"
          ]
        }
      ]
    }
  ]
}